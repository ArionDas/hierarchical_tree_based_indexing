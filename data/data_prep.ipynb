{
 "cells": [
  {
   "cell_type": "code",
   "execution_count": 1,
   "metadata": {},
   "outputs": [],
   "source": [
    "import pandas as pd"
   ]
  },
  {
   "cell_type": "code",
   "execution_count": 2,
   "metadata": {},
   "outputs": [
    {
     "data": {
      "text/html": [
       "<div>\n",
       "<style scoped>\n",
       "    .dataframe tbody tr th:only-of-type {\n",
       "        vertical-align: middle;\n",
       "    }\n",
       "\n",
       "    .dataframe tbody tr th {\n",
       "        vertical-align: top;\n",
       "    }\n",
       "\n",
       "    .dataframe thead th {\n",
       "        text-align: right;\n",
       "    }\n",
       "</style>\n",
       "<table border=\"1\" class=\"dataframe\">\n",
       "  <thead>\n",
       "    <tr style=\"text-align: right;\">\n",
       "      <th></th>\n",
       "      <th>URL</th>\n",
       "      <th>Description</th>\n",
       "      <th>Offense</th>\n",
       "      <th>Punishment</th>\n",
       "      <th>Cognizable</th>\n",
       "      <th>Bailable</th>\n",
       "      <th>Court</th>\n",
       "    </tr>\n",
       "  </thead>\n",
       "  <tbody>\n",
       "    <tr>\n",
       "      <th>0</th>\n",
       "      <td>https://lawrato.com/indian-kanoon/ipc/section-140</td>\n",
       "      <td>Description of IPC Section 140\\r\\nAccording to...</td>\n",
       "      <td>Wearing the dress or carrying any token used b...</td>\n",
       "      <td>3 Months or Fine or Both</td>\n",
       "      <td>Cognizable</td>\n",
       "      <td>Bailable</td>\n",
       "      <td>Any Magistrate</td>\n",
       "    </tr>\n",
       "    <tr>\n",
       "      <th>1</th>\n",
       "      <td>https://lawrato.com/indian-kanoon/ipc/section-127</td>\n",
       "      <td>Description of IPC Section 127\\r\\nAccording to...</td>\n",
       "      <td>Receiving property taken by war or depredation...</td>\n",
       "      <td>7 Years + Fine + forfeiture of property</td>\n",
       "      <td>Cognizable</td>\n",
       "      <td>Non-Bailable</td>\n",
       "      <td>Court of Session</td>\n",
       "    </tr>\n",
       "    <tr>\n",
       "      <th>2</th>\n",
       "      <td>https://lawrato.com/indian-kanoon/ipc/section-128</td>\n",
       "      <td>Description of IPC Section 128\\r\\nAccording to...</td>\n",
       "      <td>Public servant voluntarily allowing prisoner o...</td>\n",
       "      <td>Imprisonment for Life or 10 Years + Fine</td>\n",
       "      <td>Cognizable</td>\n",
       "      <td>Non-Bailable</td>\n",
       "      <td>Court of Session</td>\n",
       "    </tr>\n",
       "    <tr>\n",
       "      <th>3</th>\n",
       "      <td>https://lawrato.com/indian-kanoon/ipc/section-129</td>\n",
       "      <td>Description of IPC Section 129\\r\\nAccording to...</td>\n",
       "      <td>Public servant negligently suffering prisoner ...</td>\n",
       "      <td>Simple Imprisonment 3 Years + Fine</td>\n",
       "      <td>Cognizable</td>\n",
       "      <td>Bailable</td>\n",
       "      <td>Magistrate First Class</td>\n",
       "    </tr>\n",
       "    <tr>\n",
       "      <th>4</th>\n",
       "      <td>https://lawrato.com/indian-kanoon/ipc/section-130</td>\n",
       "      <td>Description of IPC Section 130\\r\\nAccording to...</td>\n",
       "      <td>Aiding escape of, rescuing or harbouring, such...</td>\n",
       "      <td>Imprisonment for Life or 10 Years + Fine</td>\n",
       "      <td>Cognizable</td>\n",
       "      <td>Non-Bailable</td>\n",
       "      <td>Court of Session</td>\n",
       "    </tr>\n",
       "  </tbody>\n",
       "</table>\n",
       "</div>"
      ],
      "text/plain": [
       "                                                 URL  \\\n",
       "0  https://lawrato.com/indian-kanoon/ipc/section-140   \n",
       "1  https://lawrato.com/indian-kanoon/ipc/section-127   \n",
       "2  https://lawrato.com/indian-kanoon/ipc/section-128   \n",
       "3  https://lawrato.com/indian-kanoon/ipc/section-129   \n",
       "4  https://lawrato.com/indian-kanoon/ipc/section-130   \n",
       "\n",
       "                                         Description  \\\n",
       "0  Description of IPC Section 140\\r\\nAccording to...   \n",
       "1  Description of IPC Section 127\\r\\nAccording to...   \n",
       "2  Description of IPC Section 128\\r\\nAccording to...   \n",
       "3  Description of IPC Section 129\\r\\nAccording to...   \n",
       "4  Description of IPC Section 130\\r\\nAccording to...   \n",
       "\n",
       "                                             Offense  \\\n",
       "0  Wearing the dress or carrying any token used b...   \n",
       "1  Receiving property taken by war or depredation...   \n",
       "2  Public servant voluntarily allowing prisoner o...   \n",
       "3  Public servant negligently suffering prisoner ...   \n",
       "4  Aiding escape of, rescuing or harbouring, such...   \n",
       "\n",
       "                                 Punishment  Cognizable      Bailable  \\\n",
       "0                  3 Months or Fine or Both  Cognizable      Bailable   \n",
       "1   7 Years + Fine + forfeiture of property  Cognizable  Non-Bailable   \n",
       "2  Imprisonment for Life or 10 Years + Fine  Cognizable  Non-Bailable   \n",
       "3        Simple Imprisonment 3 Years + Fine  Cognizable      Bailable   \n",
       "4  Imprisonment for Life or 10 Years + Fine  Cognizable  Non-Bailable   \n",
       "\n",
       "                    Court  \n",
       "0          Any Magistrate  \n",
       "1        Court of Session  \n",
       "2        Court of Session  \n",
       "3  Magistrate First Class  \n",
       "4        Court of Session  "
      ]
     },
     "execution_count": 2,
     "metadata": {},
     "output_type": "execute_result"
    }
   ],
   "source": [
    "ipc_df = pd.read_csv('ipc.csv')\n",
    "ipc_df.head()"
   ]
  },
  {
   "cell_type": "code",
   "execution_count": 23,
   "metadata": {},
   "outputs": [
    {
     "data": {
      "text/plain": [
       "Cognizable\n",
       "Cognizable                             255\n",
       "Non-Cognizable                         118\n",
       "Non-Cognizable; Cognizable in A.P.       4\n",
       "Same As Offence                          2\n",
       "Imprisonment for life and Fine           1\n",
       "Cognizable (on complaint of victim)      1\n",
       "Same As for Offence attempted            1\n",
       "Name: count, dtype: int64"
      ]
     },
     "execution_count": 23,
     "metadata": {},
     "output_type": "execute_result"
    }
   ],
   "source": [
    "ipc_df['Cognizable'].value_counts()"
   ]
  },
  {
   "cell_type": "code",
   "execution_count": 24,
   "metadata": {},
   "outputs": [
    {
     "data": {
      "text/plain": [
       "Bailable\n",
       "Bailable                         211\n",
       "Non-Bailable                     155\n",
       "Non-bailable                      11\n",
       "Same As Offence                    3\n",
       "Cognizable                         1\n",
       "Same As for Offence attempted      1\n",
       "Name: count, dtype: int64"
      ]
     },
     "execution_count": 24,
     "metadata": {},
     "output_type": "execute_result"
    }
   ],
   "source": [
    "ipc_df['Bailable'].value_counts()"
   ]
  },
  {
   "cell_type": "code",
   "execution_count": 25,
   "metadata": {},
   "outputs": [
    {
     "name": "stdout",
     "output_type": "stream",
     "text": [
      "(445, 8)\n"
     ]
    },
    {
     "data": {
      "text/html": [
       "<div>\n",
       "<style scoped>\n",
       "    .dataframe tbody tr th:only-of-type {\n",
       "        vertical-align: middle;\n",
       "    }\n",
       "\n",
       "    .dataframe tbody tr th {\n",
       "        vertical-align: top;\n",
       "    }\n",
       "\n",
       "    .dataframe thead th {\n",
       "        text-align: right;\n",
       "    }\n",
       "</style>\n",
       "<table border=\"1\" class=\"dataframe\">\n",
       "  <thead>\n",
       "    <tr style=\"text-align: right;\">\n",
       "      <th></th>\n",
       "      <th>URL</th>\n",
       "      <th>Offense</th>\n",
       "      <th>Punishment</th>\n",
       "      <th>Cognizable</th>\n",
       "      <th>Bailable</th>\n",
       "      <th>Court</th>\n",
       "      <th>Section</th>\n",
       "      <th>Description</th>\n",
       "    </tr>\n",
       "  </thead>\n",
       "  <tbody>\n",
       "    <tr>\n",
       "      <th>0</th>\n",
       "      <td>https://lawrato.com/indian-kanoon/ipc/section-140</td>\n",
       "      <td>Wearing the dress or carrying any token used b...</td>\n",
       "      <td>3 Months or Fine or Both</td>\n",
       "      <td>Cognizable</td>\n",
       "      <td>Bailable</td>\n",
       "      <td>Any Magistrate</td>\n",
       "      <td>Description of IPC Section 140</td>\n",
       "      <td>According to section 140 of Indian penal code,...</td>\n",
       "    </tr>\n",
       "    <tr>\n",
       "      <th>1</th>\n",
       "      <td>https://lawrato.com/indian-kanoon/ipc/section-127</td>\n",
       "      <td>Receiving property taken by war or depredation...</td>\n",
       "      <td>7 Years + Fine + forfeiture of property</td>\n",
       "      <td>Cognizable</td>\n",
       "      <td>Non-Bailable</td>\n",
       "      <td>Court of Session</td>\n",
       "      <td>Description of IPC Section 127</td>\n",
       "      <td>According to section 127 of Indian penal code,...</td>\n",
       "    </tr>\n",
       "    <tr>\n",
       "      <th>2</th>\n",
       "      <td>https://lawrato.com/indian-kanoon/ipc/section-128</td>\n",
       "      <td>Public servant voluntarily allowing prisoner o...</td>\n",
       "      <td>Imprisonment for Life or 10 Years + Fine</td>\n",
       "      <td>Cognizable</td>\n",
       "      <td>Non-Bailable</td>\n",
       "      <td>Court of Session</td>\n",
       "      <td>Description of IPC Section 128</td>\n",
       "      <td>According to section 128 of Indian penal code,...</td>\n",
       "    </tr>\n",
       "    <tr>\n",
       "      <th>3</th>\n",
       "      <td>https://lawrato.com/indian-kanoon/ipc/section-129</td>\n",
       "      <td>Public servant negligently suffering prisoner ...</td>\n",
       "      <td>Simple Imprisonment 3 Years + Fine</td>\n",
       "      <td>Cognizable</td>\n",
       "      <td>Bailable</td>\n",
       "      <td>Magistrate First Class</td>\n",
       "      <td>Description of IPC Section 129</td>\n",
       "      <td>According to section 129 of Indian penal code,...</td>\n",
       "    </tr>\n",
       "    <tr>\n",
       "      <th>4</th>\n",
       "      <td>https://lawrato.com/indian-kanoon/ipc/section-130</td>\n",
       "      <td>Aiding escape of, rescuing or harbouring, such...</td>\n",
       "      <td>Imprisonment for Life or 10 Years + Fine</td>\n",
       "      <td>Cognizable</td>\n",
       "      <td>Non-Bailable</td>\n",
       "      <td>Court of Session</td>\n",
       "      <td>Description of IPC Section 130</td>\n",
       "      <td>According to section 130 of Indian penal code,...</td>\n",
       "    </tr>\n",
       "  </tbody>\n",
       "</table>\n",
       "</div>"
      ],
      "text/plain": [
       "                                                 URL  \\\n",
       "0  https://lawrato.com/indian-kanoon/ipc/section-140   \n",
       "1  https://lawrato.com/indian-kanoon/ipc/section-127   \n",
       "2  https://lawrato.com/indian-kanoon/ipc/section-128   \n",
       "3  https://lawrato.com/indian-kanoon/ipc/section-129   \n",
       "4  https://lawrato.com/indian-kanoon/ipc/section-130   \n",
       "\n",
       "                                             Offense  \\\n",
       "0  Wearing the dress or carrying any token used b...   \n",
       "1  Receiving property taken by war or depredation...   \n",
       "2  Public servant voluntarily allowing prisoner o...   \n",
       "3  Public servant negligently suffering prisoner ...   \n",
       "4  Aiding escape of, rescuing or harbouring, such...   \n",
       "\n",
       "                                 Punishment  Cognizable      Bailable  \\\n",
       "0                  3 Months or Fine or Both  Cognizable      Bailable   \n",
       "1   7 Years + Fine + forfeiture of property  Cognizable  Non-Bailable   \n",
       "2  Imprisonment for Life or 10 Years + Fine  Cognizable  Non-Bailable   \n",
       "3        Simple Imprisonment 3 Years + Fine  Cognizable      Bailable   \n",
       "4  Imprisonment for Life or 10 Years + Fine  Cognizable  Non-Bailable   \n",
       "\n",
       "                    Court                         Section  \\\n",
       "0          Any Magistrate  Description of IPC Section 140   \n",
       "1        Court of Session  Description of IPC Section 127   \n",
       "2        Court of Session  Description of IPC Section 128   \n",
       "3  Magistrate First Class  Description of IPC Section 129   \n",
       "4        Court of Session  Description of IPC Section 130   \n",
       "\n",
       "                                         Description  \n",
       "0  According to section 140 of Indian penal code,...  \n",
       "1  According to section 127 of Indian penal code,...  \n",
       "2  According to section 128 of Indian penal code,...  \n",
       "3  According to section 129 of Indian penal code,...  \n",
       "4  According to section 130 of Indian penal code,...  "
      ]
     },
     "execution_count": 25,
     "metadata": {},
     "output_type": "execute_result"
    }
   ],
   "source": [
    "sections = []\n",
    "descriptions = []\n",
    "\n",
    "# Fill NaN values with an empty string\n",
    "ipc_df['Description'] = ipc_df['Description'].fillna('')\n",
    "\n",
    "for i in range(len(ipc_df)):\n",
    "    description = ipc_df['Description'][i]\n",
    "    section = description.split('\\n')[0]\n",
    "    description = ' '.join(description.split('\\n')[1:])\n",
    "    sections.append(section)\n",
    "    descriptions.append(description)\n",
    "    \n",
    "ipc_df['Section'] = sections\n",
    "ipc_df = ipc_df.drop(columns=['Description'])\n",
    "ipc_df['Description'] = descriptions\n",
    "\n",
    "print(ipc_df.shape)\n",
    "ipc_df.head()"
   ]
  },
  {
   "cell_type": "code",
   "execution_count": 3,
   "metadata": {},
   "outputs": [
    {
     "data": {
      "text/plain": [
       "'Wearing the dress or carrying any token used by a soldier, sailor or airman with intent that it may be believed that he is such a soldier, sailor or airman'"
      ]
     },
     "execution_count": 3,
     "metadata": {},
     "output_type": "execute_result"
    }
   ],
   "source": [
    "ipc_df['Offense'][0]"
   ]
  },
  {
   "cell_type": "code",
   "execution_count": 27,
   "metadata": {},
   "outputs": [
    {
     "data": {
      "text/plain": [
       "Court\n",
       "Any Magistrate                                                                          150\n",
       "Magistrate First Class                                                                  130\n",
       "Court of Session                                                                         82\n",
       "As for False Evidence                                                                     6\n",
       "Same As Offence, subject to Ch. XXVI, or if not committed in a Court, Any Magistrate      5\n",
       "Same As Offence                                                                           3\n",
       "Magistrate First Class; Session in M.P.                                                   3\n",
       "Non-Bailable                                                                              1\n",
       "As for Kidnapping or Abduction                                                            1\n",
       "Same As for Offence attempted                                                             1\n",
       "Name: count, dtype: int64"
      ]
     },
     "execution_count": 27,
     "metadata": {},
     "output_type": "execute_result"
    }
   ],
   "source": [
    "ipc_df['Court'].value_counts()"
   ]
  },
  {
   "cell_type": "code",
   "execution_count": 28,
   "metadata": {},
   "outputs": [],
   "source": [
    "ipc_df.to_csv(\"final_ipc.csv\", index=False)"
   ]
  },
  {
   "cell_type": "code",
   "execution_count": null,
   "metadata": {},
   "outputs": [],
   "source": []
  }
 ],
 "metadata": {
  "kernelspec": {
   "display_name": ".venv",
   "language": "python",
   "name": "python3"
  },
  "language_info": {
   "codemirror_mode": {
    "name": "ipython",
    "version": 3
   },
   "file_extension": ".py",
   "mimetype": "text/x-python",
   "name": "python",
   "nbconvert_exporter": "python",
   "pygments_lexer": "ipython3",
   "version": "3.11.9"
  }
 },
 "nbformat": 4,
 "nbformat_minor": 2
}
